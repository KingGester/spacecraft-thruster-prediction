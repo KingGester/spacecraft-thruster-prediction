{
 "cells": [
  {
   "cell_type": "code",
   "execution_count": null,
   "metadata": {},
   "outputs": [],
   "source": [
    "import pandas as pd\n",
    "import os\n",
    "from collections import Counter\n",
    "import matplotlib.pyplot as plt\n",
    "\n",
    "# مسیر متادیتا\n",
    "metadata_path = \"C:/Users/kingGester/Desktop/data/raw/metadata.csv\"\n",
    "meta = pd.read_csv(metadata_path)\n",
    "\n",
    "# افزودن مسیر کامل\n",
    "def get_full_path(row):\n",
    "    folder = \"train\" if row[\"sn\"] <= 12 else \"test\"\n",
    "    return f\"C:/Users/kingGester/Desktop/data/raw/{folder}/{row['filename']}\"\n",
    "\n",
    "meta[\"full_path\"] = meta.apply(get_full_path, axis=1)\n",
    "\n",
    "# فقط SN13 تا SN24\n",
    "test_data = meta[(meta[\"sn\"] >= 13) & (meta[\"sn\"] <= 24)]\n",
    "\n",
    "# تحلیل vl\n",
    "vl_distribution = Counter()\n",
    "missing_vl_files = []\n",
    "\n",
    "for idx, row in test_data.iterrows():\n",
    "    try:\n",
    "        df = pd.read_csv(row[\"full_path\"])\n",
    "        if \"vl\" not in df.columns:\n",
    "            missing_vl_files.append(row[\"filename\"])\n",
    "            continue\n",
    "        vl_distribution.update(df[\"vl\"].dropna().astype(int).tolist())\n",
    "    except Exception as e:\n",
    "        print(f\"خطا در {row['filename']}: {e}\")\n",
    "\n",
    "# نمایش توزیع vlها\n",
    "print(\"🔢 توزیع vl در داده‌ها:\")\n",
    "for k, v in sorted(vl_distribution.items()):\n",
    "    print(f\"VL={k}: {v} مقدار\")\n",
    "\n",
    "# نمایش نمودار\n",
    "plt.figure(figsize=(6,4))\n",
    "plt.bar(vl_distribution.keys(), vl_distribution.values(), color=['green', 'orange', 'red'])\n",
    "plt.title(\"توزیع مقادیر VL در SN13 تا SN24\")\n",
    "plt.xlabel(\"VL Value\")\n",
    "plt.ylabel(\"Count\")\n",
    "plt.grid(True)\n",
    "plt.show()\n",
    "\n",
    "# فایل‌هایی که vl ندارن\n",
    "if missing_vl_files:\n",
    "    print(\"\\n⚠️ فایل‌های بدون ستون vl:\")\n",
    "    for f in missing_vl_files:\n",
    "        print(\"⛔\", f)\n"
   ]
  }
 ],
 "metadata": {
  "kernelspec": {
   "display_name": ".venv",
   "language": "python",
   "name": "python3"
  },
  "language_info": {
   "name": "python",
   "version": "3.13.2"
  }
 },
 "nbformat": 4,
 "nbformat_minor": 5
}
